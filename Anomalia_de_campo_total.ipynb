{
 "metadata": {
  "name": "",
  "signature": "sha256:39858c59f87c302355bd95ed22b64c8e7eeeaf2472254cc79d87ce67b34425f9"
 },
 "nbformat": 3,
 "nbformat_minor": 0,
 "worksheets": [
  {
   "cells": [
    {
     "cell_type": "markdown",
     "metadata": {},
     "source": [
      "<font size=10 color=\"navy\">Anomalia de Campo Total</font>\n"
     ]
    },
    {
     "cell_type": "markdown",
     "metadata": {},
     "source": [
      "<font size=4> Aluno: Victor Carreira</font>"
     ]
    },
    {
     "cell_type": "markdown",
     "metadata": {},
     "source": [
      "-----------------------------------------------------------------------------------------------------------------------------------\n",
      "--------------------------------------------------------------------------------------------------------------------"
     ]
    },
    {
     "cell_type": "code",
     "collapsed": false,
     "input": [
      "%pylab inline"
     ],
     "language": "python",
     "metadata": {},
     "outputs": [
      {
       "output_type": "stream",
       "stream": "stdout",
       "text": [
        "Populating the interactive namespace from numpy and matplotlib\n"
       ]
      }
     ],
     "prompt_number": 14
    },
    {
     "cell_type": "code",
     "collapsed": false,
     "input": [
      "import numpy as np\n",
      "import matplotlib.pyplot as plt\n",
      "import timeit \n",
      "import random as rd\n",
      "import math "
     ],
     "language": "python",
     "metadata": {},
     "outputs": [],
     "prompt_number": 18
    },
    {
     "cell_type": "markdown",
     "metadata": {},
     "source": [
      "-----------------------------------------------------------------------------------------------------------------------------------\n",
      "--------------------------------------------------------------------------------------------------------------------"
     ]
    },
    {
     "cell_type": "markdown",
     "metadata": {},
     "source": [
      "<font size=3>O objetivo deste problema \u00e9 analisar o comportamento da anomalia de campo total frente ao c\u00e1lculo com aproxima\u00e7\u00e3o, e, sem aproxima\u00e7\u00e3o.</font>\n",
      "\n"
     ]
    },
    {
     "cell_type": "markdown",
     "metadata": {},
     "source": [
      "Dados: \n",
      "\n",
      "$$\\vec{a}=\\left[ \\begin{array}{c}\n",
      "cos(i) cos(d)\\\\\n",
      "cos(i) sen(d)\\\\\n",
      "sen(i)\n",
      "\\end{array} \\right]$$ \n",
      "\n",
      "$$\\vec{b}=\\left[ \\begin{array}{c}\n",
      "cos(I) cos(D)\\\\\n",
      "cos(I) sen(D)\\\\\n",
      "sen(I) \n",
      "\\end{array} \\right]$$ \n",
      "\n",
      "$$\\Delta T_{sem aprox}=\\parallel T_{i} \\parallel -\\parallel \\vec{a} \\parallel$$\n",
      "\n",
      "$$\\Delta T_{com aprox}=\\hat{b}^{T} \\vec{a}$$"
     ]
    },
    {
     "cell_type": "markdown",
     "metadata": {},
     "source": [
      "-----------------------------------------------------------------------------------------------------------------------------------\n",
      "--------------------------------------------------------------------------------------------------------------------"
     ]
    },
    {
     "cell_type": "code",
     "collapsed": false,
     "input": [
      "##C\u00e1lculo de a##\n",
      "\n",
      "\n",
      "A=np.linspace(0, 90, 10)# Cria uma lista A com o range \u00e2ngulos que eu irei usar. \n",
      "                        # Come\u00e7a em 0, vai at\u00e9 90, pulando de 10 em 10.\n",
      "\n",
      "a=[]#cria uma lista vazia\n",
      "for i in range (len(A)):#diz que a inclina\u00e7\u00e3o, i, deve variar de acordo com a lista A\n",
      "    for d in range (len(A)):#diz que a declina\u00e7\u00e3o, d, deve variar de acordo com a lista A\n",
      "        f = [[math.cos(A[i])*math.cos(A[d])],[math.cos(A[i])*math.sin(A[d])],[math.sin(A[i])]]#lista que representa o \n",
      "                                                                                              #campo magn\u00e9tico variante\n",
      "        a.append(f)# diz que a lista a, antes vazia, conter\u00e1 os elementos da lista f\n",
      "\n",
      "a = np.array(a)# transforma a lista \"a\" em matriz \"a\". Matriz a campo vari\u00e1vel\n",
      "print a[0]# mostra o (0-primeiro termo, 1-segundo termo, e assim por diante) termo da matriz a"
     ],
     "language": "python",
     "metadata": {},
     "outputs": [
      {
       "output_type": "stream",
       "stream": "stdout",
       "text": [
        "[[ 1.]\n",
        " [ 0.]\n",
        " [ 0.]]\n"
       ]
      }
     ],
     "prompt_number": 19
    },
    {
     "cell_type": "code",
     "collapsed": false,
     "input": [
      "##C\u00e1lculo de b##\n",
      "\n",
      "I = 41.2#valor da inclina\u00e7\u00e3o do campo magn\u00e9tico usado no calculo de b\n",
      "D = 17.5#valor da declina\u00e7\u00e3o do campo magn\u00e9tico usado no calculo de b\n",
      "\n",
      "b = np.array([[math.cos(I)*math.cos(D)],[math.cos(I)*math.sin(D)],[math.sin(I)]])#matriz b - campo magn\u00e9tico fixo.\n",
      "\n",
      "bb = (np.dot(b.T,b))/b #produto vetorial de b transposto com b dividido por b\n",
      "\n",
      "print bb"
     ],
     "language": "python",
     "metadata": {},
     "outputs": [
      {
       "output_type": "stream",
       "stream": "stdout",
       "text": [
        "[[-4.8678957 ]\n",
        " [ 1.09489789]\n",
        " [-2.84402128]]\n"
       ]
      }
     ],
     "prompt_number": 20
    },
    {
     "cell_type": "code",
     "collapsed": false,
     "input": [
      "##C\u00e1lculo de Ti##\n",
      "\n"
     ],
     "language": "python",
     "metadata": {},
     "outputs": []
    },
    {
     "cell_type": "code",
     "collapsed": false,
     "input": [
      "##C\u00e1lculo sem aproxima\u00e7\u00e3o##"
     ],
     "language": "python",
     "metadata": {},
     "outputs": []
    },
    {
     "cell_type": "code",
     "collapsed": false,
     "input": [
      "##C\u00e1lculo com aproxima\u00e7\u00e3o##"
     ],
     "language": "python",
     "metadata": {},
     "outputs": []
    },
    {
     "cell_type": "code",
     "collapsed": false,
     "input": [
      "##Plotando Resultados##"
     ],
     "language": "python",
     "metadata": {},
     "outputs": []
    }
   ],
   "metadata": {}
  }
 ]
}