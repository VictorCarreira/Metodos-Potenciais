{
 "metadata": {
  "name": "",
  "signature": "sha256:1f416717ebc208c91cefacbfb1b46cf10bfdd95e49bbc4ab4e4612c99105a048"
 },
 "nbformat": 3,
 "nbformat_minor": 0,
 "worksheets": [
  {
   "cells": [
    {
     "cell_type": "markdown",
     "metadata": {},
     "source": [
      "<font size=10 color=\"navy\">Polin\u00f4mios de Legendre</font>"
     ]
    },
    {
     "cell_type": "markdown",
     "metadata": {},
     "source": [
      "<font size=4> Aluno: Victor Carreira</font>"
     ]
    },
    {
     "cell_type": "markdown",
     "metadata": {},
     "source": [
      "-----------------------------------------------------------------------------------------------------------------------------------\n",
      "--------------------------------------------------------------------------------------------------------------------"
     ]
    },
    {
     "cell_type": "code",
     "collapsed": false,
     "input": [
      "%pylab inline"
     ],
     "language": "python",
     "metadata": {},
     "outputs": [
      {
       "output_type": "stream",
       "stream": "stdout",
       "text": [
        "Populating the interactive namespace from numpy and matplotlib\n"
       ]
      }
     ],
     "prompt_number": 22
    },
    {
     "cell_type": "code",
     "collapsed": false,
     "input": [
      "import numpy as np\n",
      "import matplotlib.pyplot as plt\n",
      "import timeit \n",
      "import random as rd\n",
      "\n",
      "from mpl_toolkits.mplot3d import Axes3D\n",
      "from matplotlib import cm"
     ],
     "language": "python",
     "metadata": {},
     "outputs": [],
     "prompt_number": 23
    },
    {
     "cell_type": "code",
     "collapsed": false,
     "input": [
      "#t=np.linspace(-1,1, num=500)\n",
      "#T=np.reshape(t, )\n",
      "#Po=np.ones(len(t))\n",
      "#print(t)\n",
      "#P1=t\n",
      "#print(t.shape, Po.shape, P1.shape, P2.shape)\n",
      "#P2=[0.5*(3*(T**2)-1)]*len(T)\n",
      "#print (len(T))\n",
      "#print (len(P2))\n",
      "\n",
      "t = np.linspace(-1,1,500)\n",
      "\n",
      "#print t\n",
      "\n",
      "color = '0.75'\n",
      "\n",
      "\n",
      "\n",
      "P0 = np.array([1]*len(t))\n",
      "P1 = t\n",
      "P2 = (3/2)*(t**2)-(1/2)\n",
      "P3 = (4/576)*(t**3)+(5/576)*(t**2)-(4/576)*(t)-(1)\n",
      "P4 = (35/8)*(t**4)-(15/4)*(t**2)+(3/8)\n",
      "P5 = (30240/3840)*(t**5)-(3360/3840)*(t**3)+(7200/3840)*t\n",
      "P6 = (665280/46080)*(t**6)-(907200/46080)*(t**4)+(320400/46080)*(t**2)-(7200/46080)*(t)\n",
      "P7 = (17297280/645120)*(t**7)-(2842560/645120)*(t**5)+(1270800/645120)*(t**3)-(1411200/645120)*t\n",
      "\n",
      "#print P0"
     ],
     "language": "python",
     "metadata": {},
     "outputs": [],
     "prompt_number": 27
    },
    {
     "cell_type": "code",
     "collapsed": false,
     "input": [
      "plt.plot(t,P0,'k-')\n",
      "plt.plot(t,P1,'b-')\n",
      "plt.plot(t,P2,'g-')\n",
      "plt.plot(t,P3,'y-')\n",
      "plt.plot(t,P4,'r-')\n",
      "plt.plot(t,P5,'c-')\n",
      "plt.plot(t,P6,'m-')\n",
      "plt.plot(t,P7,'k-')\n",
      "plt.show()\n"
     ],
     "language": "python",
     "metadata": {},
     "outputs": [
      {
       "metadata": {},
       "output_type": "display_data",
       "png": "[encoded data removed]",
       "text": [
        "<matplotlib.figure.Figure at 0x3d21190>"
       ]
      }
     ],
     "prompt_number": 28
    },
    {
     "cell_type": "code",
     "collapsed": false,
     "input": [
      "#........................./\u00b4\u00af/'...'/\u00b4\u00af\u00af`\u00b7\u00b8\n",
      "#....................../'/.../..../......./\u00a8\u00af\\\n",
      "#....................('(...\u00b4...\u00b4.... \u00af~/'...')\n",
      "#.....................\\.................'...../\n",
      "#......................\"...\\.......... _.\u00b7\u00b4\n",
      "#........................\\..............(\n",
      "#.....................,/-,.---.,......\\.\n",
      "#...................(,-~,-~-,\\....'\\.\n",
      "#...................|..O.\\.O..../.....\\.\n",
      "#....................\\,,,-^-,,'-.......\\.\n",
      "#.................--/,,,___,,--'\u00af.....\\.\n",
      "#.................-|.......................'\\.\n",
      "#...........,-'''./.........................'',.\n",
      "#.......,-'''.../.............................\\.\n",
      "#.....,-'..../....................\\...........\\.\n",
      "#.../......./.......................\\.........\\.\n",
      "#...|......|....o....................\\........|\n",
      "#...\\_,-\u00af/-__.............,----'''\\\\....../\n",
      "#..........\\\u00af''''-----''''''\u00af\u00af''''\u00af..../..\\,,/.\n",
      "#...........\\.........................../.\n",
      "#............\\......_....,............./.\n",
      "#.............|_____|\u00af|..........|\n",
      "#...............\\......./.....\\'''''''''''/.\n",
      "#................'-,,-'........\\...../.\n",
      "#..............................''''.\n",
      "\n",
      "#MANDE O PATRICK DOS BROTHERS COM PUNHO DOS BROTHERS NA CABE\u00c7A PRA 5 BROTHERS\n",
      "#SE VC N\u00c3O MANDAR A\u00cd VC N\u00c3O \u00c9 BROTHER "
     ],
     "language": "python",
     "metadata": {},
     "outputs": [],
     "prompt_number": 26
    }
   ],
   "metadata": {}
  }
 ]
}